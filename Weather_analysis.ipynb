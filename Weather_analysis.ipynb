{
 "cells": [
  {
   "cell_type": "markdown",
   "id": "fadaf2e8-430f-435d-a113-181ce9339059",
   "metadata": {},
   "source": [
    "## WEATHER DATA ANALYZER "
   ]
  },
  {
   "cell_type": "markdown",
   "id": "04904df5-9e6c-483e-9fb1-d4f1a4d0c539",
   "metadata": {},
   "source": [
    "## Loading Dataset"
   ]
  },
  {
   "cell_type": "code",
   "execution_count": 9,
   "id": "5c1e9ebf-d1ad-4dd9-a779-e4697a16e847",
   "metadata": {},
   "outputs": [
    {
     "name": "stdout",
     "output_type": "stream",
     "text": [
      "         Date  Temperature  Humidity  Rainfall\n",
      "0  2023-01-01           22        78         0\n",
      "1  2023-01-02           24        80         1\n",
      "2  2023-01-03           21        75         0\n",
      "3  2023-01-04           25        79         5\n",
      "4  2023-01-05           26        82         0\n"
     ]
    }
   ],
   "source": [
    "import numpy as np\n",
    "import pandas as pd\n",
    "\n",
    "df = pd.read_csv(\"weather_data.csv\")\n",
    "print(df.head())\n"
   ]
  },
  {
   "cell_type": "markdown",
   "id": "c762e4bb-f21a-414c-bcac-838443f02f50",
   "metadata": {},
   "source": [
    "## Extracting Time Info"
   ]
  },
  {
   "cell_type": "code",
   "execution_count": 10,
   "id": "6c31629f-f6eb-4f4d-858e-603dc45f6a02",
   "metadata": {},
   "outputs": [],
   "source": [
    "df['Date'] = pd.to_datetime(df['Date'])\n",
    "df['Month'] = df['Date'].dt.month\n",
    "df['Year'] = df['Date'].dt.year\n"
   ]
  },
  {
   "cell_type": "markdown",
   "id": "27bbb91d-7fa7-4bec-a93a-db49a2b9156e",
   "metadata": {},
   "source": [
    "## Basic Data "
   ]
  },
  {
   "cell_type": "code",
   "execution_count": 15,
   "id": "64323c7f-d2c5-47f2-be8d-dc471879f188",
   "metadata": {},
   "outputs": [
    {
     "name": "stdout",
     "output_type": "stream",
     "text": [
      "Basic Info:\n",
      "\n",
      "<class 'pandas.core.frame.DataFrame'>\n",
      "RangeIndex: 28 entries, 0 to 27\n",
      "Data columns (total 6 columns):\n",
      " #   Column       Non-Null Count  Dtype         \n",
      "---  ------       --------------  -----         \n",
      " 0   Date         28 non-null     datetime64[ns]\n",
      " 1   Temperature  28 non-null     int64         \n",
      " 2   Humidity     28 non-null     int64         \n",
      " 3   Rainfall     28 non-null     int64         \n",
      " 4   Month        28 non-null     int32         \n",
      " 5   Year         28 non-null     int32         \n",
      "dtypes: datetime64[ns](1), int32(2), int64(3)\n",
      "memory usage: 1.2 KB\n",
      "None\n",
      "\n",
      "Statistics:\n",
      "\n",
      "                                Date  Temperature   Humidity   Rainfall  \\\n",
      "count                             28    28.000000  28.000000  28.000000   \n",
      "mean   2023-05-26 15:25:42.857142784    28.571429  74.071429  11.928571   \n",
      "min              2023-01-01 00:00:00    21.000000  60.000000   0.000000   \n",
      "25%              2023-02-22 06:00:00    24.750000  67.500000   0.000000   \n",
      "50%              2023-05-17 00:00:00    28.500000  72.000000   1.500000   \n",
      "75%              2023-09-01 06:00:00    32.250000  80.500000   7.000000   \n",
      "max              2023-12-02 00:00:00    38.000000  89.000000  80.000000   \n",
      "std                              NaN     4.917306   8.755648  22.982970   \n",
      "\n",
      "           Month    Year  \n",
      "count  28.000000    28.0  \n",
      "mean    5.785714  2023.0  \n",
      "min     1.000000  2023.0  \n",
      "25%     2.750000  2023.0  \n",
      "50%     5.500000  2023.0  \n",
      "75%     9.000000  2023.0  \n",
      "max    12.000000  2023.0  \n",
      "std     3.725360     0.0  \n",
      "\n",
      "Missing Days:\n",
      "\n",
      "Date           0\n",
      "Temperature    0\n",
      "Humidity       0\n",
      "Rainfall       0\n",
      "Month          0\n",
      "Year           0\n",
      "dtype: int64\n"
     ]
    }
   ],
   "source": [
    "print(\"Basic Info:\\n\")\n",
    "print(df.info())\n",
    "\n",
    "print(\"\\nStatistics:\\n\")\n",
    "print(df.describe())\n",
    "\n",
    "print(\"\\nMissing Days:\\n\")\n",
    "print(df.isnull().sum())"
   ]
  },
  {
   "cell_type": "markdown",
   "id": "69878b79-43a2-4a3b-b023-5ccaee49ea67",
   "metadata": {},
   "source": [
    "## Temperature Analysis"
   ]
  },
  {
   "cell_type": "code",
   "execution_count": 18,
   "id": "28b6ce75-c757-4e5b-9a3a-d36dca18f491",
   "metadata": {},
   "outputs": [
    {
     "name": "stdout",
     "output_type": "stream",
     "text": [
      "Maximum Temperature: 38\n",
      "Minimum Temperature: 21\n",
      "\n",
      "Hottest Day:\n",
      "         Date  Temperature  Humidity  Rainfall  Month  Year\n",
      "12 2023-05-01           38        60         2      5  2023\n",
      "\n",
      "Monthly Average Temperature:\n",
      "Month\n",
      "1     23.6\n",
      "2     28.5\n",
      "3     32.0\n",
      "4     35.5\n",
      "5     37.5\n",
      "6     33.5\n",
      "7     29.5\n",
      "8     27.5\n",
      "9     29.5\n",
      "10    26.5\n",
      "11    23.5\n",
      "12    21.5\n",
      "Name: Temperature, dtype: float64\n"
     ]
    }
   ],
   "source": [
    "max_temperature = df['Temperature'].max()\n",
    "min_temperature = df['Temperature'].min()\n",
    "\n",
    "print(\"Maximum Temperature:\",max_temperature)\n",
    "print(\"Minimum Temperature:\",min_temperature)\n",
    "\n",
    "print(\"\\nHottest Day:\")\n",
    "print(df[df['Temperature']==max_temperature])\n",
    "\n",
    "monthly_avg_temperature = df.groupby('Month')['Temperature'].mean()\n",
    "print(\"\\nMonthly Average Temperature:\")\n",
    "print(monthly_avg_temperature)"
   ]
  },
  {
   "cell_type": "markdown",
   "id": "146fb079-f477-4416-bd83-a5dc31b9d93b",
   "metadata": {},
   "source": [
    "## Rainfall Analysis"
   ]
  },
  {
   "cell_type": "code",
   "execution_count": 16,
   "id": "e5fd9716-aeed-4947-ad67-a68cf04fe5aa",
   "metadata": {},
   "outputs": [
    {
     "name": "stdout",
     "output_type": "stream",
     "text": [
      "Total Monthly Rainfall:\n",
      "\n",
      "Month\n",
      "1       6\n",
      "2       9\n",
      "3       0\n",
      "4       0\n",
      "5       6\n",
      "6      30\n",
      "7     110\n",
      "8     150\n",
      "9      20\n",
      "10      0\n",
      "11      1\n",
      "12      2\n",
      "Name: Rainfall, dtype: int64\n",
      "\n",
      "Total Rainy days:\n",
      "          Date  Temperature  Humidity  Rainfall  Month  Year\n",
      "1  2023-01-02           24        80         1      1  2023\n",
      "3  2023-01-04           25        79         5      1  2023\n",
      "5  2023-02-01           28        85         3      2  2023\n",
      "6  2023-02-02           29        88         6      2  2023\n",
      "12 2023-05-01           38        60         2      5  2023\n",
      "13 2023-05-02           37        62         4      5  2023\n",
      "14 2023-06-01           34        70        10      6  2023\n",
      "15 2023-06-02           33        72        20      6  2023\n",
      "16 2023-07-01           30        85        50      7  2023\n",
      "17 2023-07-02           29        88        60      7  2023\n",
      "18 2023-08-01           28        87        70      8  2023\n",
      "19 2023-08-02           27        89        80      8  2023\n",
      "20 2023-09-01           29        75        15      9  2023\n",
      "21 2023-09-02           30        70         5      9  2023\n",
      "25 2023-11-02           23        64         1     11  2023\n",
      "26 2023-12-01           22        70         2     12  2023\n"
     ]
    }
   ],
   "source": [
    "monthly_rainfall = df.groupby('Month')['Rainfall'].sum()\n",
    "print(\"Total Monthly Rainfall:\\n\")\n",
    "print(monthly_rainfall)\n",
    "\n",
    "rainy_days = df[df['Rainfall'] > 0]\n",
    "print(\"\\nTotal Rainy days:\\n\",rainy_days)"
   ]
  }
 ],
 "metadata": {
  "kernelspec": {
   "display_name": "Python 3 (ipykernel)",
   "language": "python",
   "name": "python3"
  },
  "language_info": {
   "codemirror_mode": {
    "name": "ipython",
    "version": 3
   },
   "file_extension": ".py",
   "mimetype": "text/x-python",
   "name": "python",
   "nbconvert_exporter": "python",
   "pygments_lexer": "ipython3",
   "version": "3.11.7"
  }
 },
 "nbformat": 4,
 "nbformat_minor": 5
}
